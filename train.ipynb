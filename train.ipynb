{
 "cells": [
  {
   "cell_type": "code",
   "execution_count": null,
   "metadata": {},
   "outputs": [],
   "source": [
    "import json \n",
    "from nltk.corpus import stopwords\n",
    "import torch\n",
    "import sys \n",
    "import getopt\n",
    "from tqdm import tqdm\n",
    "from sklearn.feature_extraction.text import TfidfVectorizer\n",
    "import numpy as np\n",
    "\n",
    "#initializing the opts and args variables\n",
    "# opts, args = getopt.getopt(sys.argv[1:], \"e:l:b:\", [\"epoch=\", \"learning_rate=\", \"batch_size=\"])\n",
    "\n",
    "# epoch = 100\n",
    "# learning_rate = 0.001\n",
    "# batch_size = 1\n",
    "\n",
    "# for opt, arg in opts:\n",
    "#     if opt in (\"-e\", \"--epoch\"):\n",
    "#         try: \n",
    "#             epoch = int(arg)\n",
    "#         except ValueError:\n",
    "#             raise ValueError(\"Epoch must be an integer\")\n",
    "        \n",
    "#     elif opt in (\"-l\", \"--learning_rate\"):\n",
    "#         try: \n",
    "#             learning_rate = float(arg)\n",
    "#         except ValueError:\n",
    "#             raise ValueError(\"Learning rate must be a float\")\n",
    "        \n",
    "#     elif opt in (\"-b\", \"--batch_size\"):\n",
    "#         try: \n",
    "#             batch_size = int(arg)\n",
    "#         except ValueError:\n",
    "#             raise ValueError(\"Batch size must be an integer\")\n",
    "\n",
    "class Train():\n",
    "    def __init__(self):\n",
    "        pass\n",
    "\n",
    "    def get_data(self):\n",
    "        index = {}\n",
    "        data = []\n",
    "        count = 0\n",
    "        json_data = json.load(open(\"intent.json\", 'rb'))['intent']\n",
    "        for lines in tqdm(json_data):\n",
    "            if lines[\"label\"] not in index:\n",
    "                index[lines[\"label\"]] = count\n",
    "                data.extend([(sent,count) for sent in lines['pattern']])\n",
    "            count += 1\n",
    "        return np.array(data)\n",
    "        \n",
    "    def process_data(self, data):\n",
    "        vectorizer = TfidfVectorizer(lowercase=True, stop_words=)\n",
    "        X = vectorizer.fit_transform([str(i[0]) for i in data])\n",
    "        return (np.array(X) , np.array([str(i[1]) for i in data]))"
   ]
  },
  {
   "cell_type": "code",
   "execution_count": null,
   "metadata": {},
   "outputs": [],
   "source": [
    "obj = Train()"
   ]
  },
  {
   "cell_type": "code",
   "execution_count": null,
   "metadata": {},
   "outputs": [],
   "source": [
    "data = obj.get_data()\n",
    "clean = obj.process_data()"
   ]
  },
  {
   "cell_type": "code",
   "execution_count": null,
   "metadata": {},
   "outputs": [],
   "source": []
  }
 ],
 "metadata": {
  "kernelspec": {
   "display_name": "ML",
   "language": "python",
   "name": "python3"
  },
  "language_info": {
   "codemirror_mode": {
    "name": "ipython",
    "version": 3
   },
   "file_extension": ".py",
   "mimetype": "text/x-python",
   "name": "python",
   "nbconvert_exporter": "python",
   "pygments_lexer": "ipython3",
   "version": "3.9.16"
  },
  "orig_nbformat": 4
 },
 "nbformat": 4,
 "nbformat_minor": 2
}